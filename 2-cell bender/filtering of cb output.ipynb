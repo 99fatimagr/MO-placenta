{
 "cells": [
  {
   "cell_type": "code",
   "execution_count": null,
   "metadata": {},
   "outputs": [],
   "source": [
    "import numpy as np\n",
    "import pandas as pd\n",
    "import scanpy as sc\n",
    "import seaborn as sns\n",
    "import matplotlib.pyplot as plt"
   ]
  },
  {
   "cell_type": "code",
   "execution_count": null,
   "metadata": {},
   "outputs": [],
   "source": [
    "samples=[\"1305912\",\"1313281\",\"1219699\",\"1305906\",\"1312819\",\"1217423\",\"1313275\",\"1135667\",\"1228994\",\"1135670\",\"1232081\",\"1308756\",\"1219476\",\"1229000\",\"1232087\",\"1308762\",\"1130761\",\"1130764\",\"1217426\",\"1219693\"]\n",
    "\n",
    "for i in samples:\n",
    "    adata = sc.read_10x_h5('../outs/'+i+'/cb_'+i+'_0_fpr_filtered.h5')\n",
    "# for each cell compute fraction of counts in mito genes vs. all genes\n",
    "    # add the total counts per cell as observations-annotation to adata\n",
    "    \n",
    "    adata.var[\"mt\"] = adata.var_names.str.startswith(\"MT-\")\n",
    "    # ribosomal genes\n",
    "    adata.var[\"ribo\"] = adata.var_names.str.startswith((\"RPS\", \"RPL\"))\n",
    "    # hemoglobin genes.\n",
    "    adata.var[\"hb\"] = adata.var_names.str.contains((\"^HB[^(P)]\"))\n",
    "    sc.pp.calculate_qc_metrics(\n",
    "        adata, qc_vars=[\"mt\", \"ribo\", \"hb\"], inplace=True, percent_top=[20], log1p=True)\n",
    "    adata.obs[\"outlier\"] = adata.obs[\"n_genes_by_counts\"] < 200\n",
    "    adata.obs[\"mt_outlier\"] = adata.obs[\"pct_counts_mt\"] > 5\n",
    "        \n",
    "    print(adata)\n",
    "    \n",
    "    adata = adata[(~adata.obs.outlier) & (~adata.obs.mt_outlier)].copy()\n",
    "    \n",
    "    print(adata)\n",
    "    print('making gene expr file')\n",
    "    adata.to_df().to_csv(i+\"_gene_expression.csv\")\n",
    "    print('making metadata file')\n",
    "    adata.obs.to_csv(i+\"_metadata.csv\")"
   ]
  }
 ],
 "metadata": {
  "kernelspec": {
   "display_name": "Python 3",
   "language": "python",
   "name": "python3"
  },
  "language_info": {
   "codemirror_mode": {
    "name": "ipython",
    "version": 3
   },
   "file_extension": ".py",
   "mimetype": "text/x-python",
   "name": "python",
   "nbconvert_exporter": "python",
   "pygments_lexer": "ipython3",
   "version": "3.8.5"
  }
 },
 "nbformat": 4,
 "nbformat_minor": 4
}
